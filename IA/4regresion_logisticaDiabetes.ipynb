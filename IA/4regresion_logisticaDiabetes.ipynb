{
  "cells": [
    {
      "cell_type": "code",
      "execution_count": 1,
      "metadata": {
        "id": "SGzPgsivyd1u"
      },
      "outputs": [],
      "source": [
        "import pandas as pd\n",
        "from sklearn import metrics\n",
        "from sklearn.model_selection import train_test_split\n",
        "import matplotlib.pyplot as plt\n"
      ]
    },
    {
      "cell_type": "code",
      "execution_count": 2,
      "metadata": {
        "colab": {
          "base_uri": "https://localhost:8080/",
          "height": 206
        },
        "id": "tKfkJvxJ1aNP",
        "outputId": "3f1eadde-30de-45e8-8836-20a24aa2f2d3"
      },
      "outputs": [
        {
          "data": {
            "text/html": [
              "<div>\n",
              "<style scoped>\n",
              "    .dataframe tbody tr th:only-of-type {\n",
              "        vertical-align: middle;\n",
              "    }\n",
              "\n",
              "    .dataframe tbody tr th {\n",
              "        vertical-align: top;\n",
              "    }\n",
              "\n",
              "    .dataframe thead th {\n",
              "        text-align: right;\n",
              "    }\n",
              "</style>\n",
              "<table border=\"1\" class=\"dataframe\">\n",
              "  <thead>\n",
              "    <tr style=\"text-align: right;\">\n",
              "      <th></th>\n",
              "      <th>Pregnancies</th>\n",
              "      <th>Glucose</th>\n",
              "      <th>BloodPressure</th>\n",
              "      <th>SkinThickness</th>\n",
              "      <th>Insulin</th>\n",
              "      <th>BMI</th>\n",
              "      <th>DiabetesPedigreeFunction</th>\n",
              "      <th>Age</th>\n",
              "      <th>Outcome</th>\n",
              "    </tr>\n",
              "  </thead>\n",
              "  <tbody>\n",
              "    <tr>\n",
              "      <th>0</th>\n",
              "      <td>6</td>\n",
              "      <td>148</td>\n",
              "      <td>72</td>\n",
              "      <td>35</td>\n",
              "      <td>0</td>\n",
              "      <td>33.6</td>\n",
              "      <td>0.627</td>\n",
              "      <td>50</td>\n",
              "      <td>1</td>\n",
              "    </tr>\n",
              "    <tr>\n",
              "      <th>1</th>\n",
              "      <td>1</td>\n",
              "      <td>85</td>\n",
              "      <td>66</td>\n",
              "      <td>29</td>\n",
              "      <td>0</td>\n",
              "      <td>26.6</td>\n",
              "      <td>0.351</td>\n",
              "      <td>31</td>\n",
              "      <td>0</td>\n",
              "    </tr>\n",
              "    <tr>\n",
              "      <th>2</th>\n",
              "      <td>8</td>\n",
              "      <td>183</td>\n",
              "      <td>64</td>\n",
              "      <td>0</td>\n",
              "      <td>0</td>\n",
              "      <td>23.3</td>\n",
              "      <td>0.672</td>\n",
              "      <td>32</td>\n",
              "      <td>1</td>\n",
              "    </tr>\n",
              "    <tr>\n",
              "      <th>3</th>\n",
              "      <td>1</td>\n",
              "      <td>89</td>\n",
              "      <td>66</td>\n",
              "      <td>23</td>\n",
              "      <td>94</td>\n",
              "      <td>28.1</td>\n",
              "      <td>0.167</td>\n",
              "      <td>21</td>\n",
              "      <td>0</td>\n",
              "    </tr>\n",
              "    <tr>\n",
              "      <th>4</th>\n",
              "      <td>0</td>\n",
              "      <td>137</td>\n",
              "      <td>40</td>\n",
              "      <td>35</td>\n",
              "      <td>168</td>\n",
              "      <td>43.1</td>\n",
              "      <td>2.288</td>\n",
              "      <td>33</td>\n",
              "      <td>1</td>\n",
              "    </tr>\n",
              "  </tbody>\n",
              "</table>\n",
              "</div>"
            ],
            "text/plain": [
              "   Pregnancies  Glucose  BloodPressure  SkinThickness  Insulin   BMI  \\\n",
              "0            6      148             72             35        0  33.6   \n",
              "1            1       85             66             29        0  26.6   \n",
              "2            8      183             64              0        0  23.3   \n",
              "3            1       89             66             23       94  28.1   \n",
              "4            0      137             40             35      168  43.1   \n",
              "\n",
              "   DiabetesPedigreeFunction  Age  Outcome  \n",
              "0                     0.627   50        1  \n",
              "1                     0.351   31        0  \n",
              "2                     0.672   32        1  \n",
              "3                     0.167   21        0  \n",
              "4                     2.288   33        1  "
            ]
          },
          "execution_count": 2,
          "metadata": {},
          "output_type": "execute_result"
        }
      ],
      "source": [
        "diabetes = pd.read_csv('diabetes.csv')\n",
        "diabetes.head()"
      ]
    },
    {
      "cell_type": "code",
      "execution_count": 3,
      "metadata": {
        "colab": {
          "base_uri": "https://localhost:8080/"
        },
        "id": "RmL84QSewEhR",
        "outputId": "3f68fe91-8a1c-483e-89dc-c83033dbac15"
      },
      "outputs": [
        {
          "name": "stdout",
          "output_type": "stream",
          "text": [
            "<class 'pandas.core.frame.DataFrame'>\n",
            "RangeIndex: 768 entries, 0 to 767\n",
            "Data columns (total 9 columns):\n",
            " #   Column                    Non-Null Count  Dtype  \n",
            "---  ------                    --------------  -----  \n",
            " 0   Pregnancies               768 non-null    int64  \n",
            " 1   Glucose                   768 non-null    int64  \n",
            " 2   BloodPressure             768 non-null    int64  \n",
            " 3   SkinThickness             768 non-null    int64  \n",
            " 4   Insulin                   768 non-null    int64  \n",
            " 5   BMI                       768 non-null    float64\n",
            " 6   DiabetesPedigreeFunction  768 non-null    float64\n",
            " 7   Age                       768 non-null    int64  \n",
            " 8   Outcome                   768 non-null    int64  \n",
            "dtypes: float64(2), int64(7)\n",
            "memory usage: 54.1 KB\n"
          ]
        }
      ],
      "source": [
        "diabetes.info()"
      ]
    },
    {
      "cell_type": "code",
      "execution_count": 4,
      "metadata": {
        "colab": {
          "base_uri": "https://localhost:8080/"
        },
        "id": "eBmhaXw31lrT",
        "outputId": "8b7e8681-6f93-44d8-8e8b-2603fc1a507c"
      },
      "outputs": [
        {
          "data": {
            "text/plain": [
              "(768, 9)"
            ]
          },
          "execution_count": 4,
          "metadata": {},
          "output_type": "execute_result"
        }
      ],
      "source": [
        "diabetes.shape"
      ]
    },
    {
      "cell_type": "code",
      "execution_count": 5,
      "metadata": {
        "id": "NA6--cak1ph0"
      },
      "outputs": [],
      "source": [
        "\n",
        "x=diabetes.iloc[:,0:8]\n",
        "\n",
        "y = diabetes.Outcome\n"
      ]
    },
    {
      "cell_type": "code",
      "execution_count": 6,
      "metadata": {
        "colab": {
          "base_uri": "https://localhost:8080/",
          "height": 459
        },
        "id": "ey6l5klOIzH_",
        "outputId": "19a3e186-aa49-4678-a08b-227d2a7b72f3"
      },
      "outputs": [
        {
          "data": {
            "text/plain": [
              "0      1\n",
              "1      0\n",
              "2      1\n",
              "3      0\n",
              "4      1\n",
              "      ..\n",
              "763    0\n",
              "764    0\n",
              "765    0\n",
              "766    1\n",
              "767    0\n",
              "Name: Outcome, Length: 768, dtype: int64"
            ]
          },
          "execution_count": 6,
          "metadata": {},
          "output_type": "execute_result"
        }
      ],
      "source": [
        "y"
      ]
    },
    {
      "cell_type": "code",
      "execution_count": 7,
      "metadata": {
        "colab": {
          "base_uri": "https://localhost:8080/"
        },
        "id": "vGwfTJ4YRG6-",
        "outputId": "495ac081-d231-4bfb-cb86-ea681e5fae60"
      },
      "outputs": [
        {
          "data": {
            "text/plain": [
              "(768, 8)"
            ]
          },
          "execution_count": 7,
          "metadata": {},
          "output_type": "execute_result"
        }
      ],
      "source": [
        "x.shape\n"
      ]
    },
    {
      "cell_type": "code",
      "execution_count": null,
      "metadata": {
        "id": "bxNBtjx7fQTr"
      },
      "outputs": [],
      "source": []
    },
    {
      "cell_type": "markdown",
      "metadata": {
        "id": "c5CPbWCt-A-f"
      },
      "source": []
    },
    {
      "cell_type": "code",
      "execution_count": 8,
      "metadata": {
        "id": "apmw_NrgfGnk"
      },
      "outputs": [],
      "source": [
        "X_train, X_test, y_train, y_test = train_test_split(x, y, test_size = 0.25, random_state = 0)"
      ]
    },
    {
      "cell_type": "code",
      "execution_count": 9,
      "metadata": {
        "id": "11wR88hkcIgN"
      },
      "outputs": [],
      "source": [
        "from sklearn.preprocessing import StandardScaler\n",
        "sc = StandardScaler()\n",
        "\n",
        "sc.fit(X_train)  ## Se estiman los parámetros media y desviación estándar\n",
        "\n",
        "X_train_std = sc.transform(X_train)\n",
        "X_test_std = sc.transform(X_test)"
      ]
    },
    {
      "cell_type": "code",
      "execution_count": 10,
      "metadata": {
        "id": "xEajbyy32vZG"
      },
      "outputs": [],
      "source": [
        "from sklearn.linear_model import LogisticRegression\n",
        "logreg = LogisticRegression(max_iter=1000)\n",
        "logreg.fit(X_train_std, y_train)\n",
        "y_pred = logreg.predict(X_test_std)"
      ]
    },
    {
      "cell_type": "code",
      "execution_count": 11,
      "metadata": {
        "colab": {
          "base_uri": "https://localhost:8080/"
        },
        "id": "gYjiYqIr4hRf",
        "outputId": "e386e817-6659-497e-e1ba-8c459566a5dd"
      },
      "outputs": [
        {
          "data": {
            "text/plain": [
              "array([[0.04281504, 0.95718496],\n",
              "       [0.83341554, 0.16658446],\n",
              "       [0.91124398, 0.08875602],\n",
              "       [0.36367363, 0.63632637],\n",
              "       [0.8814876 , 0.1185124 ],\n",
              "       [0.96168303, 0.03831697],\n",
              "       [0.25541564, 0.74458436],\n",
              "       [0.14228944, 0.85771056],\n",
              "       [0.59939297, 0.40060703],\n",
              "       [0.6139451 , 0.3860549 ],\n",
              "       [0.41532038, 0.58467962],\n",
              "       [0.03945154, 0.96054846],\n",
              "       [0.71226668, 0.28773332],\n",
              "       [0.81860399, 0.18139601],\n",
              "       [0.87399449, 0.12600551],\n",
              "       [0.83956411, 0.16043589],\n",
              "       [0.14202786, 0.85797214],\n",
              "       [0.97494963, 0.02505037],\n",
              "       [0.56028781, 0.43971219],\n",
              "       [0.75421241, 0.24578759],\n",
              "       [0.34231937, 0.65768063],\n",
              "       [0.59325718, 0.40674282],\n",
              "       [0.80922513, 0.19077487],\n",
              "       [0.93040314, 0.06959686],\n",
              "       [0.94826086, 0.05173914],\n",
              "       [0.65454096, 0.34545904],\n",
              "       [0.9546262 , 0.0453738 ],\n",
              "       [0.08976828, 0.91023172],\n",
              "       [0.89254143, 0.10745857],\n",
              "       [0.86622505, 0.13377495],\n",
              "       [0.5301369 , 0.4698631 ],\n",
              "       [0.74670174, 0.25329826],\n",
              "       [0.89856975, 0.10143025],\n",
              "       [0.54179092, 0.45820908],\n",
              "       [0.9061617 , 0.0938383 ],\n",
              "       [0.31699998, 0.68300002],\n",
              "       [0.54215027, 0.45784973],\n",
              "       [0.91230915, 0.08769085],\n",
              "       [0.67868135, 0.32131865],\n",
              "       [0.27917225, 0.72082775],\n",
              "       [0.7207879 , 0.2792121 ],\n",
              "       [0.78895305, 0.21104695],\n",
              "       [0.84498859, 0.15501141],\n",
              "       [0.19166973, 0.80833027],\n",
              "       [0.23094364, 0.76905636],\n",
              "       [0.99099308, 0.00900692],\n",
              "       [0.91735077, 0.08264923],\n",
              "       [0.80128204, 0.19871796],\n",
              "       [0.63972014, 0.36027986],\n",
              "       [0.71107627, 0.28892373],\n",
              "       [0.62542626, 0.37457374],\n",
              "       [0.82050671, 0.17949329],\n",
              "       [0.12423206, 0.87576794],\n",
              "       [0.503671  , 0.496329  ],\n",
              "       [0.85375736, 0.14624264],\n",
              "       [0.99723947, 0.00276053],\n",
              "       [0.93773908, 0.06226092],\n",
              "       [0.45503986, 0.54496014],\n",
              "       [0.74019123, 0.25980877],\n",
              "       [0.94364248, 0.05635752],\n",
              "       [0.25804903, 0.74195097],\n",
              "       [0.524796  , 0.475204  ],\n",
              "       [0.89958918, 0.10041082],\n",
              "       [0.33271951, 0.66728049],\n",
              "       [0.34113917, 0.65886083],\n",
              "       [0.10514685, 0.89485315],\n",
              "       [0.29744688, 0.70255312],\n",
              "       [0.86161053, 0.13838947],\n",
              "       [0.66648597, 0.33351403],\n",
              "       [0.88894212, 0.11105788],\n",
              "       [0.8856901 , 0.1143099 ],\n",
              "       [0.65858831, 0.34141169],\n",
              "       [0.90071652, 0.09928348],\n",
              "       [0.04949239, 0.95050761],\n",
              "       [0.16920408, 0.83079592],\n",
              "       [0.69661038, 0.30338962],\n",
              "       [0.87505744, 0.12494256],\n",
              "       [0.36595844, 0.63404156],\n",
              "       [0.92583279, 0.07416721],\n",
              "       [0.80926684, 0.19073316],\n",
              "       [0.67946493, 0.32053507],\n",
              "       [0.59605651, 0.40394349],\n",
              "       [0.78573369, 0.21426631],\n",
              "       [0.96855473, 0.03144527],\n",
              "       [0.80392448, 0.19607552],\n",
              "       [0.79245113, 0.20754887],\n",
              "       [0.74190285, 0.25809715],\n",
              "       [0.60448306, 0.39551694],\n",
              "       [0.12369099, 0.87630901],\n",
              "       [0.80717176, 0.19282824],\n",
              "       [0.83550262, 0.16449738],\n",
              "       [0.82891008, 0.17108992],\n",
              "       [0.78333619, 0.21666381],\n",
              "       [0.95914525, 0.04085475],\n",
              "       [0.34237628, 0.65762372],\n",
              "       [0.81981377, 0.18018623],\n",
              "       [0.56707829, 0.43292171],\n",
              "       [0.465245  , 0.534755  ],\n",
              "       [0.35374093, 0.64625907],\n",
              "       [0.76083653, 0.23916347],\n",
              "       [0.72649625, 0.27350375],\n",
              "       [0.91141826, 0.08858174],\n",
              "       [0.78557854, 0.21442146],\n",
              "       [0.96326513, 0.03673487],\n",
              "       [0.36903669, 0.63096331],\n",
              "       [0.65928081, 0.34071919],\n",
              "       [0.85938058, 0.14061942],\n",
              "       [0.7067082 , 0.2932918 ],\n",
              "       [0.95741025, 0.04258975],\n",
              "       [0.27734374, 0.72265626],\n",
              "       [0.89588868, 0.10411132],\n",
              "       [0.68649504, 0.31350496],\n",
              "       [0.41215986, 0.58784014],\n",
              "       [0.56921406, 0.43078594],\n",
              "       [0.44814233, 0.55185767],\n",
              "       [0.39771553, 0.60228447],\n",
              "       [0.88641497, 0.11358503],\n",
              "       [0.35435132, 0.64564868],\n",
              "       [0.8996681 , 0.1003319 ],\n",
              "       [0.240749  , 0.759251  ],\n",
              "       [0.6180821 , 0.3819179 ],\n",
              "       [0.59713438, 0.40286562],\n",
              "       [0.70852057, 0.29147943],\n",
              "       [0.55046167, 0.44953833],\n",
              "       [0.79309351, 0.20690649],\n",
              "       [0.95712633, 0.04287367],\n",
              "       [0.67730344, 0.32269656],\n",
              "       [0.64393167, 0.35606833],\n",
              "       [0.53304563, 0.46695437],\n",
              "       [0.65356466, 0.34643534],\n",
              "       [0.63912571, 0.36087429],\n",
              "       [0.97052479, 0.02947521],\n",
              "       [0.94389519, 0.05610481],\n",
              "       [0.21937621, 0.78062379],\n",
              "       [0.69909771, 0.30090229],\n",
              "       [0.59489421, 0.40510579],\n",
              "       [0.87275299, 0.12724701],\n",
              "       [0.62700187, 0.37299813],\n",
              "       [0.40165401, 0.59834599],\n",
              "       [0.8177128 , 0.1822872 ],\n",
              "       [0.9142512 , 0.0857488 ],\n",
              "       [0.46606517, 0.53393483],\n",
              "       [0.93718619, 0.06281381],\n",
              "       [0.92206917, 0.07793083],\n",
              "       [0.67320005, 0.32679995],\n",
              "       [0.91878446, 0.08121554],\n",
              "       [0.92824761, 0.07175239],\n",
              "       [0.9080086 , 0.0919914 ],\n",
              "       [0.8676373 , 0.1323627 ],\n",
              "       [0.79105763, 0.20894237],\n",
              "       [0.92115031, 0.07884969],\n",
              "       [0.35738949, 0.64261051],\n",
              "       [0.89953773, 0.10046227],\n",
              "       [0.81909953, 0.18090047],\n",
              "       [0.22798269, 0.77201731],\n",
              "       [0.88207094, 0.11792906],\n",
              "       [0.26250506, 0.73749494],\n",
              "       [0.86653504, 0.13346496],\n",
              "       [0.53110273, 0.46889727],\n",
              "       [0.05015856, 0.94984144],\n",
              "       [0.35693466, 0.64306534],\n",
              "       [0.24458219, 0.75541781],\n",
              "       [0.97955656, 0.02044344],\n",
              "       [0.75392299, 0.24607701],\n",
              "       [0.16123679, 0.83876321],\n",
              "       [0.72696373, 0.27303627],\n",
              "       [0.81370706, 0.18629294],\n",
              "       [0.890668  , 0.109332  ],\n",
              "       [0.77092614, 0.22907386],\n",
              "       [0.89255438, 0.10744562],\n",
              "       [0.8949952 , 0.1050048 ],\n",
              "       [0.77895729, 0.22104271],\n",
              "       [0.82628616, 0.17371384],\n",
              "       [0.75101071, 0.24898929],\n",
              "       [0.46027872, 0.53972128],\n",
              "       [0.87244575, 0.12755425],\n",
              "       [0.6097728 , 0.3902272 ],\n",
              "       [0.88725437, 0.11274563],\n",
              "       [0.88422445, 0.11577555],\n",
              "       [0.93452299, 0.06547701],\n",
              "       [0.85144351, 0.14855649],\n",
              "       [0.17188409, 0.82811591],\n",
              "       [0.85543142, 0.14456858],\n",
              "       [0.05148565, 0.94851435],\n",
              "       [0.5177476 , 0.4822524 ],\n",
              "       [0.97469665, 0.02530335],\n",
              "       [0.3767317 , 0.6232683 ],\n",
              "       [0.7659802 , 0.2340198 ],\n",
              "       [0.58905293, 0.41094707],\n",
              "       [0.87655968, 0.12344032],\n",
              "       [0.81079598, 0.18920402],\n",
              "       [0.90542952, 0.09457048]])"
            ]
          },
          "execution_count": 11,
          "metadata": {},
          "output_type": "execute_result"
        }
      ],
      "source": [
        "logreg.predict_proba(X_test_std)"
      ]
    },
    {
      "cell_type": "code",
      "execution_count": 12,
      "metadata": {
        "colab": {
          "base_uri": "https://localhost:8080/"
        },
        "id": "6DtLEIkk2-Pn",
        "outputId": "50c10400-6f86-4819-f907-f4ef621312ad"
      },
      "outputs": [
        {
          "data": {
            "text/plain": [
              "array([1, 0, 0, 1, 0, 0, 1, 1, 0, 0, 1, 1, 0, 0, 0, 0, 1, 0, 0, 0, 1, 0,\n",
              "       0, 0, 0, 0, 0, 1, 0, 0, 0, 0, 0, 0, 0, 1, 0, 0, 0, 1, 0, 0, 0, 1,\n",
              "       1, 0, 0, 0, 0, 0, 0, 0, 1, 0, 0, 0, 0, 1, 0, 0, 1, 0, 0, 1, 1, 1,\n",
              "       1, 0, 0, 0, 0, 0, 0, 1, 1, 0, 0, 1, 0, 0, 0, 0, 0, 0, 0, 0, 0, 0,\n",
              "       1, 0, 0, 0, 0, 0, 1, 0, 0, 1, 1, 0, 0, 0, 0, 0, 1, 0, 0, 0, 0, 1,\n",
              "       0, 0, 1, 0, 1, 1, 0, 1, 0, 1, 0, 0, 0, 0, 0, 0, 0, 0, 0, 0, 0, 0,\n",
              "       0, 1, 0, 0, 0, 0, 1, 0, 0, 1, 0, 0, 0, 0, 0, 0, 0, 0, 0, 1, 0, 0,\n",
              "       1, 0, 1, 0, 0, 1, 1, 1, 0, 0, 1, 0, 0, 0, 0, 0, 0, 0, 0, 0, 1, 0,\n",
              "       0, 0, 0, 0, 0, 1, 0, 1, 0, 0, 1, 0, 0, 0, 0, 0])"
            ]
          },
          "execution_count": 12,
          "metadata": {},
          "output_type": "execute_result"
        }
      ],
      "source": [
        "y_pred"
      ]
    },
    {
      "cell_type": "markdown",
      "metadata": {
        "id": "zBXUxa4bxHcV"
      },
      "source": [
        "Evaluación"
      ]
    },
    {
      "cell_type": "code",
      "execution_count": 13,
      "metadata": {
        "colab": {
          "base_uri": "https://localhost:8080/"
        },
        "id": "6vcTunlB_w6Z",
        "outputId": "59796bd5-31d0-4cef-9968-b7b1e4441b49"
      },
      "outputs": [
        {
          "data": {
            "text/plain": [
              "0.8020833333333334"
            ]
          },
          "execution_count": 13,
          "metadata": {},
          "output_type": "execute_result"
        }
      ],
      "source": [
        "from sklearn.metrics import accuracy_score\n",
        "accuracy_score(y_test, y_pred)"
      ]
    },
    {
      "cell_type": "code",
      "execution_count": 14,
      "metadata": {
        "colab": {
          "base_uri": "https://localhost:8080/"
        },
        "id": "CbSMo0OasWOb",
        "outputId": "85036675-65e4-4a46-eec8-7fb50ac430cc"
      },
      "outputs": [
        {
          "data": {
            "text/plain": [
              "array([0.765625  , 0.75520833, 0.75520833])"
            ]
          },
          "execution_count": 14,
          "metadata": {},
          "output_type": "execute_result"
        }
      ],
      "source": [
        "from sklearn.model_selection import cross_val_score\n",
        "cross_val_score(logreg, X_train_std, y_train, cv=3, scoring=\"accuracy\")"
      ]
    },
    {
      "cell_type": "markdown",
      "metadata": {
        "id": "GTzObEiYrHAi"
      },
      "source": [
        "Matriz de confusión"
      ]
    },
    {
      "cell_type": "code",
      "execution_count": 15,
      "metadata": {
        "colab": {
          "base_uri": "https://localhost:8080/",
          "height": 449
        },
        "id": "Jxm2fHZY0IUC",
        "outputId": "86feb78f-534b-4759-fa25-cb85c9fd0399"
      },
      "outputs": [
        {
          "data": {
            "image/png": "[encoded data removed]",
            "text/plain": [
              "<Figure size 640x480 with 2 Axes>"
            ]
          },
          "metadata": {},
          "output_type": "display_data"
        }
      ],
      "source": [
        "from sklearn.metrics import ConfusionMatrixDisplay\n",
        "\n",
        "ConfusionMatrixDisplay.from_predictions(y_test,y_pred)\n",
        "plt.show()"
      ]
    },
    {
      "cell_type": "markdown",
      "metadata": {
        "id": "jg6SRqs_z0Vp"
      },
      "source": [
        "Cada fila representa los datos \"reales\" y cada columna los datos \"predichos\" por el modelo"
      ]
    },
    {
      "cell_type": "code",
      "execution_count": 16,
      "metadata": {
        "colab": {
          "base_uri": "https://localhost:8080/"
        },
        "id": "K5Yth_hBsWY7",
        "outputId": "8a8f2aac-c5d5-43bd-d948-5a5841118ac2"
      },
      "outputs": [
        {
          "data": {
            "text/plain": [
              "np.float64(0.75)"
            ]
          },
          "execution_count": 16,
          "metadata": {},
          "output_type": "execute_result"
        }
      ],
      "source": [
        "from sklearn.metrics import precision_score, recall_score\n",
        "precision_score(y_test, y_pred)\n",
        "\n"
      ]
    },
    {
      "cell_type": "code",
      "execution_count": 17,
      "metadata": {
        "colab": {
          "base_uri": "https://localhost:8080/"
        },
        "id": "5dbJ2EL4sWij",
        "outputId": "7bd3af7b-6a5f-4028-eb9d-176a944d677c"
      },
      "outputs": [
        {
          "data": {
            "text/plain": [
              "np.float64(0.5806451612903226)"
            ]
          },
          "execution_count": 17,
          "metadata": {},
          "output_type": "execute_result"
        }
      ],
      "source": [
        "recall_score(y_test, y_pred)"
      ]
    },
    {
      "cell_type": "code",
      "execution_count": 18,
      "metadata": {
        "colab": {
          "base_uri": "https://localhost:8080/"
        },
        "id": "f-bgiek1cm-Q",
        "outputId": "33560678-7966-45ab-bb26-20025f1588a1"
      },
      "outputs": [
        {
          "data": {
            "text/plain": [
              "np.float64(0.6545454545454545)"
            ]
          },
          "execution_count": 18,
          "metadata": {},
          "output_type": "execute_result"
        }
      ],
      "source": [
        "from sklearn.metrics import f1_score\n",
        "f1_score(y_test, y_pred)"
      ]
    },
    {
      "cell_type": "code",
      "execution_count": 19,
      "metadata": {
        "colab": {
          "base_uri": "https://localhost:8080/"
        },
        "id": "T29iqKYYdmrl",
        "outputId": "7c51ed50-99f0-42b0-d68b-145e7d988aa3"
      },
      "outputs": [
        {
          "data": {
            "text/plain": [
              "['modelo_entrenado.pkl']"
            ]
          },
          "execution_count": 19,
          "metadata": {},
          "output_type": "execute_result"
        }
      ],
      "source": [
        "import joblib\n",
        "joblib.dump(logreg,\"modelo_entrenado.pkl\") #Guardamos el modelo"
      ]
    },
    {
      "cell_type": "code",
      "execution_count": 20,
      "metadata": {
        "colab": {
          "base_uri": "https://localhost:8080/"
        },
        "id": "TxTXUd5kleT2",
        "outputId": "9ec208e5-4e7e-4d25-d78c-5987ff48c309"
      },
      "outputs": [
        {
          "data": {
            "text/plain": [
              "['scaler.pkl']"
            ]
          },
          "execution_count": 20,
          "metadata": {},
          "output_type": "execute_result"
        }
      ],
      "source": [
        "joblib.dump(sc, 'scaler.pkl') #Guardamos el \"escalalizador\""
      ]
    }
  ],
  "metadata": {
    "colab": {
      "provenance": []
    },
    "kernelspec": {
      "display_name": "Python 3",
      "name": "python3"
    },
    "language_info": {
      "codemirror_mode": {
        "name": "ipython",
        "version": 3
      },
      "file_extension": ".py",
      "mimetype": "text/x-python",
      "name": "python",
      "nbconvert_exporter": "python",
      "pygments_lexer": "ipython3",
      "version": "3.12.5"
    }
  },
  "nbformat": 4,
  "nbformat_minor": 0
}
